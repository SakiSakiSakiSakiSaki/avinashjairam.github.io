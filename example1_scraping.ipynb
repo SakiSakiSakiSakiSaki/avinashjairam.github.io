{
  "nbformat": 4,
  "nbformat_minor": 0,
  "metadata": {
    "colab": {
      "name": "example1_scraping.ipynb",
      "provenance": [],
      "authorship_tag": "ABX9TyOmNtLgLGygPANQ/n/5DD1A",
      "include_colab_link": true
    },
    "kernelspec": {
      "name": "python3",
      "display_name": "Python 3"
    }
  },
  "cells": [
    {
      "cell_type": "markdown",
      "metadata": {
        "id": "view-in-github",
        "colab_type": "text"
      },
      "source": [
        "<a href=\"https://colab.research.google.com/github/avinashjairam/avinashjairam.github.io/blob/master/example1_scraping.ipynb\" target=\"_parent\"><img src=\"https://colab.research.google.com/assets/colab-badge.svg\" alt=\"Open In Colab\"/></a>"
      ]
    },
    {
      "cell_type": "code",
      "metadata": {
        "id": "wuuv_jgneCB2",
        "colab_type": "code",
        "colab": {}
      },
      "source": [
        "#locating all occurrences of a tag\n",
        "import requests\n",
        "from bs4 import BeautifulSoup"
      ],
      "execution_count": null,
      "outputs": []
    },
    {
      "cell_type": "code",
      "metadata": {
        "id": "-LtyQ8syeIgF",
        "colab_type": "code",
        "colab": {}
      },
      "source": [
        "URL = 'https://avinashjairam.github.io/example2.html'\n",
        "page = requests.get(URL)\n",
        "\n"
      ],
      "execution_count": null,
      "outputs": []
    },
    {
      "cell_type": "code",
      "metadata": {
        "id": "RG4M2do_eSNO",
        "colab_type": "code",
        "colab": {}
      },
      "source": [
        "soup = BeautifulSoup(page.content, 'html.parser')"
      ],
      "execution_count": null,
      "outputs": []
    },
    {
      "cell_type": "code",
      "metadata": {
        "id": "fs-BRl0PeXLT",
        "colab_type": "code",
        "colab": {}
      },
      "source": [
        "p = list(soup.find_all('p'))"
      ],
      "execution_count": null,
      "outputs": []
    },
    {
      "cell_type": "code",
      "metadata": {
        "id": "n60eDB48epE3",
        "colab_type": "code",
        "colab": {
          "base_uri": "https://localhost:8080/",
          "height": 51
        },
        "outputId": "93ec8634-0021-4834-df7f-774811d52b43"
      },
      "source": [
        "for text in p:\n",
        "  print(text.get_text())"
      ],
      "execution_count": null,
      "outputs": [
        {
          "output_type": "stream",
          "text": [
            "Example 2\n",
            "Here's another sentence\n"
          ],
          "name": "stdout"
        }
      ]
    }
  ]
}